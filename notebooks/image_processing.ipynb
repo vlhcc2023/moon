{
 "cells": [
  {
   "cell_type": "markdown",
   "id": "ba07a8b1-afb1-456c-94f8-952174b207c4",
   "metadata": {
    "deletable": true
   },
   "source": [
    "Run the cell below to import the image functions from `PIL`."
   ]
  },
  {
   "cell_type": "code",
   "execution_count": 1,
   "id": "92f8221c-38fe-453f-8370-fcd2edc85cbf",
   "metadata": {
    "deletable": true,
    "tags": []
   },
   "outputs": [],
   "source": [
    "from PIL.Image import *"
   ]
  },
  {
   "cell_type": "markdown",
   "id": "e812015c-d20a-4dd6-890d-4a781debf90d",
   "metadata": {
    "deletable": true,
    "tags": []
   },
   "source": [
    "Run the cell below to load the image."
   ]
  },
  {
   "cell_type": "code",
   "execution_count": 5,
   "id": "016de6d9-3108-46ac-b0ca-69dd683ad1a3",
   "metadata": {
    "deletable": true
   },
   "outputs": [],
   "source": [
    "img = open(\"images/black_square_100x100.png\")"
   ]
  },
  {
   "cell_type": "markdown",
   "id": "0e4acc93-86fd-40fe-abb2-daf54e25faa9",
   "metadata": {
    "deletable": true
   },
   "source": [
    "Run the cell below to compute and display the size of the image."
   ]
  },
  {
   "cell_type": "code",
   "execution_count": 6,
   "id": "3bdbc8b5-c3dc-4244-8813-1e10d81efcf2",
   "metadata": {
    "deletable": true
   },
   "outputs": [
    {
     "name": "stdout",
     "output_type": "stream",
     "text": [
      "width =  100\n",
      "height = 100\n"
     ]
    }
   ],
   "source": [
    "width, height = img.size\n",
    "print(\"width = \", width)\n",
    "print(\"height =\", height)"
   ]
  },
  {
   "cell_type": "markdown",
   "id": "8b70f257-d911-4055-a5d5-af7cf12783bd",
   "metadata": {
    "deletable": true
   },
   "source": [
    "Run the cell below and give a brief description of its purpose. Double click on this cell to append your answer.\n",
    "\n",
    "**Answer:**"
   ]
  },
  {
   "cell_type": "code",
   "execution_count": 7,
   "id": "c460e124-e11f-40de-a058-f095a5c5983e",
   "metadata": {
    "deletable": true
   },
   "outputs": [
    {
     "name": "stdout",
     "output_type": "stream",
     "text": [
      "Black pixels ratio =  100.0\n"
     ]
    }
   ],
   "source": [
    "greyscale = img.convert(\"L\")\n",
    "colors = greyscale.histogram()\n",
    "black_pixels_ratio = colors[0] / (width * height) * 100\n",
    "print(\"Black pixels ratio = \", black_pixels_ratio)"
   ]
  },
  {
   "cell_type": "markdown",
   "id": "7097a517-0d39-4ab9-b68b-2a5a0d2176a8",
   "metadata": {
    "deletable": true
   },
   "source": [
    "Check your answer to the previous question with the image `black_square_100x100.png`."
   ]
  },
  {
   "cell_type": "markdown",
   "id": "3a1c657c-ef8c-4030-9bb9-3b7db2381691",
   "metadata": {
    "deletable": true
   },
   "source": [
    "**Optional** Read the documentation of the histogram() function"
   ]
  },
  {
   "cell_type": "code",
   "execution_count": null,
   "id": "6fdfe752-8703-4986-bb6e-a4a9b2d28dbb",
   "metadata": {
    "deletable": true
   },
   "outputs": [],
   "source": [
    "%pdoc greyscale.histogram"
   ]
  },
  {
   "cell_type": "markdown",
   "id": "3ddf4a8a-1d9f-429a-8339-3ce9bfb69409",
   "metadata": {
    "deletable": true,
    "tags": []
   },
   "source": [
    "## Part A: Greyscale\n",
    "\n",
    "Write a function `monochrome(img)` that takes a colored image as input and returns an image of the same size but in grayscale."
   ]
  },
  {
   "cell_type": "code",
   "execution_count": null,
   "id": "7ca80695-adf6-4bc0-9181-435729ed7c12",
   "metadata": {
    "deletable": true
   },
   "outputs": [],
   "source": [
    "def monochrome(img):\n",
    "    # your code\n",
    "    pass"
   ]
  },
  {
   "cell_type": "markdown",
   "id": "ee536415-0605-46be-8208-0a0d21f12c93",
   "metadata": {
    "deletable": true
   },
   "source": [
    "Test the `monochrome(img)` function in the cell below with the image *toon.png*"
   ]
  },
  {
   "cell_type": "code",
   "execution_count": null,
   "id": "fbbd8774-6cf5-4b93-8494-501485c2b77c",
   "metadata": {
    "deletable": true,
    "tags": []
   },
   "outputs": [],
   "source": [
    "# your code"
   ]
  },
  {
   "cell_type": "markdown",
   "id": "bcd88bce-0a1a-4851-9318-d2ab21ad9416",
   "metadata": {
    "deletable": true
   },
   "source": [
    "## Part B: Naive approach to edge detection\n",
    "\n",
    "Write a function `contoursV(img)` which takes an image as input and returns a new image of the same size with, for each pixel, the value of the difference in intensities between pixel $(i,j)$ and pixel $(i-1, j)$."
   ]
  },
  {
   "cell_type": "code",
   "execution_count": null,
   "id": "8d83e8d1-591a-4330-93c0-54320107a47e",
   "metadata": {
    "deletable": true
   },
   "outputs": [],
   "source": [
    "def contoursV(img):\n",
    "    # your code\n",
    "    pass"
   ]
  },
  {
   "cell_type": "markdown",
   "id": "8a078402-a3d8-4d51-a6cb-3529889f0a45",
   "metadata": {
    "deletable": true
   },
   "source": [
    "Apply the `contoursV` function to the image *contoursV.png* then *forms.png*. **Note that these images are already monochrome.**"
   ]
  },
  {
   "cell_type": "code",
   "execution_count": null,
   "id": "73ce029d-53e9-46ba-bce5-d9337b93ba46",
   "metadata": {
    "deletable": true
   },
   "outputs": [],
   "source": [
    "# your code"
   ]
  },
  {
   "cell_type": "code",
   "execution_count": null,
   "id": "4a50e36d-72d2-448f-b7c7-23caa820c78c",
   "metadata": {
    "deletable": true,
    "tags": []
   },
   "outputs": [],
   "source": []
  }
 ],
 "metadata": {
  "full-user-track-cell": "",
  "full-user-track-date": "",
  "kernelspec": {
   "display_name": "Python 3 (ipykernel)",
   "language": "python",
   "name": "python3"
  },
  "language_info": {
   "codemirror_mode": {
    "name": "ipython",
    "version": 3
   },
   "file_extension": ".py",
   "mimetype": "text/x-python",
   "name": "python",
   "nbconvert_exporter": "python",
   "pygments_lexer": "ipython3",
   "version": "3.9.16"
  },
  "moon-script": "C1 T0 C3 T2 C5 T4 C7 T6 C3 T8 C5 T4 C7 T6 ?C10 T9 [ (C12 T11 C14 T13) (C16 T15 C18 T17) ]",
  "toc-showcode": false,
  "toc-showmarkdowntxt": false
 },
 "nbformat": 4,
 "nbformat_minor": 5
}
